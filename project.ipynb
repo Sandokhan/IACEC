{
 "cells": [
  {
   "cell_type": "markdown",
   "metadata": {},
   "source": [
    "- Business understanding – What does the business need?\n",
    "- Data understanding – What data do we have / need? Is it clean?\n",
    "- Data preparation – How do we organize the data for modeling?\n",
    "- Modeling – What modeling techniques should we apply?\n",
    "- Evaluation – Which model best meets the business objectives?"
   ]
  },
  {
   "cell_type": "markdown",
   "metadata": {},
   "source": [
    "# 1. Business Understanding"
   ]
  },
  {
   "cell_type": "code",
   "execution_count": 3,
   "metadata": {},
   "outputs": [],
   "source": [
    "# Manipulation\n",
    "import pandas as pd\n",
    "import numpy as np\n",
    "\n",
    "# Visualisation\n",
    "import matplotlib.pyplot as plt\n",
    "import seaborn as sns\n",
    "import graphviz as gp\n",
    "from yellowbrick.classifier import ClassificationReport\n",
    "from IPython.display import Image\n",
    "\n",
    "# ML\n",
    "import statsmodels.api as sm\n",
    "from sklearn import tree\n",
    "from sklearn.pipeline import Pipeline\n",
    "from sklearn.linear_model import LogisticRegression, LinearRegression\n",
    "from sklearn.neighbors import KNeighborsClassifier\n",
    "from sklearn.tree import DecisionTreeClassifier\n",
    "\n",
    "from sklearn.preprocessing import MinMaxScaler, StandardScaler\n",
    "from sklearn.metrics import classification_report, accuracy_score, confusion_matrix, mean_squared_error,roc_auc_score\n",
    "from sklearn.model_selection import train_test_split, cross_val_score, KFold, GridSearchCV\n",
    "\n",
    "\n",
    "# Setting Configs\n",
    "import warnings\n",
    "warnings.filterwarnings(\"ignore\")\n",
    "pd.set_option('display.float_format', lambda x: '%.3f' % x)\n",
    "plt.style.use('ggplot')"
   ]
  },
  {
   "cell_type": "markdown",
   "metadata": {},
   "source": [
    "# 2. Data Understanding\n",
    "\n",
    "\n",
    "## Dataset Description \n",
    "\n",
    "This data set dates from 1988 and consists of four databases: Cleveland, Hungary, Switzerland, and Long Beach V. It contains 76 attributes, including the predicted attribute, but all published experiments refer to using a subset of 14 of them. The \"target\" field refers to the presence of heart disease in the patient. It is integer valued 0 = no disease and 1 = disease.\n",
    "\n",
    "**The names and social security numbers of the patients were recently removed from the database, replaced with dummy values.**\n",
    "\n",
    "https://www.kaggle.com/datasets/johnsmith88/heart-disease-dataset\n",
    "\n",
    "## 2.1 Describe Data\n",
    "\n",
    "As can be seen bellow our dataset have _1025 records_ and _14 features_.\n",
    "\n",
    "### Attribute Information\n",
    "\n",
    "- Age (age in years)\n",
    "- Sex (1 = male; 0 = female)\n",
    "- CP (chest pain type)\n",
    "- TRESTBPS (resting blood pressure (in mm Hg on admission to the hospital))\n",
    "- CHOL (serum cholestoral in mg/dl)\n",
    "- FPS (fasting blood sugar > 120 mg/dl) (1 = true; 0 = false)\n",
    "- RESTECH (resting electrocardiographic results)\n",
    "- THALACH (maximum heart rate achieved)\n",
    "- EXANG (exercise induced angina (1 = yes; 0 = no))\n",
    "- OLDPEAK (ST depression induced by exercise relative to rest)\n",
    "- SLOPE (the slope of the peak exercise ST segment)\n",
    "- CA (number of major vessels (0-3) colored by flourosopy)\n",
    "- THAL (3 = normal; 6 = fixed defect; 7 = reversable defect)\n",
    "- TARGET (1 or 0)"
   ]
  },
  {
   "cell_type": "code",
   "execution_count": 7,
   "metadata": {},
   "outputs": [
    {
     "data": {
      "text/html": [
       "<div>\n",
       "<style scoped>\n",
       "    .dataframe tbody tr th:only-of-type {\n",
       "        vertical-align: middle;\n",
       "    }\n",
       "\n",
       "    .dataframe tbody tr th {\n",
       "        vertical-align: top;\n",
       "    }\n",
       "\n",
       "    .dataframe thead th {\n",
       "        text-align: right;\n",
       "    }\n",
       "</style>\n",
       "<table border=\"1\" class=\"dataframe\">\n",
       "  <thead>\n",
       "    <tr style=\"text-align: right;\">\n",
       "      <th></th>\n",
       "      <th>age</th>\n",
       "      <th>sex</th>\n",
       "      <th>cp</th>\n",
       "      <th>trestbps</th>\n",
       "      <th>chol</th>\n",
       "      <th>fbs</th>\n",
       "      <th>restecg</th>\n",
       "      <th>thalach</th>\n",
       "      <th>exang</th>\n",
       "      <th>oldpeak</th>\n",
       "      <th>slope</th>\n",
       "      <th>ca</th>\n",
       "      <th>thal</th>\n",
       "      <th>target</th>\n",
       "    </tr>\n",
       "  </thead>\n",
       "  <tbody>\n",
       "    <tr>\n",
       "      <th>0</th>\n",
       "      <td>52</td>\n",
       "      <td>1</td>\n",
       "      <td>0</td>\n",
       "      <td>125</td>\n",
       "      <td>212</td>\n",
       "      <td>0</td>\n",
       "      <td>1</td>\n",
       "      <td>168</td>\n",
       "      <td>0</td>\n",
       "      <td>1.000</td>\n",
       "      <td>2</td>\n",
       "      <td>2</td>\n",
       "      <td>3</td>\n",
       "      <td>0</td>\n",
       "    </tr>\n",
       "    <tr>\n",
       "      <th>1</th>\n",
       "      <td>53</td>\n",
       "      <td>1</td>\n",
       "      <td>0</td>\n",
       "      <td>140</td>\n",
       "      <td>203</td>\n",
       "      <td>1</td>\n",
       "      <td>0</td>\n",
       "      <td>155</td>\n",
       "      <td>1</td>\n",
       "      <td>3.100</td>\n",
       "      <td>0</td>\n",
       "      <td>0</td>\n",
       "      <td>3</td>\n",
       "      <td>0</td>\n",
       "    </tr>\n",
       "    <tr>\n",
       "      <th>2</th>\n",
       "      <td>70</td>\n",
       "      <td>1</td>\n",
       "      <td>0</td>\n",
       "      <td>145</td>\n",
       "      <td>174</td>\n",
       "      <td>0</td>\n",
       "      <td>1</td>\n",
       "      <td>125</td>\n",
       "      <td>1</td>\n",
       "      <td>2.600</td>\n",
       "      <td>0</td>\n",
       "      <td>0</td>\n",
       "      <td>3</td>\n",
       "      <td>0</td>\n",
       "    </tr>\n",
       "    <tr>\n",
       "      <th>3</th>\n",
       "      <td>61</td>\n",
       "      <td>1</td>\n",
       "      <td>0</td>\n",
       "      <td>148</td>\n",
       "      <td>203</td>\n",
       "      <td>0</td>\n",
       "      <td>1</td>\n",
       "      <td>161</td>\n",
       "      <td>0</td>\n",
       "      <td>0.000</td>\n",
       "      <td>2</td>\n",
       "      <td>1</td>\n",
       "      <td>3</td>\n",
       "      <td>0</td>\n",
       "    </tr>\n",
       "    <tr>\n",
       "      <th>4</th>\n",
       "      <td>62</td>\n",
       "      <td>0</td>\n",
       "      <td>0</td>\n",
       "      <td>138</td>\n",
       "      <td>294</td>\n",
       "      <td>1</td>\n",
       "      <td>1</td>\n",
       "      <td>106</td>\n",
       "      <td>0</td>\n",
       "      <td>1.900</td>\n",
       "      <td>1</td>\n",
       "      <td>3</td>\n",
       "      <td>2</td>\n",
       "      <td>0</td>\n",
       "    </tr>\n",
       "  </tbody>\n",
       "</table>\n",
       "</div>"
      ],
      "text/plain": [
       "   age  sex  cp  trestbps  chol  fbs  restecg  thalach  exang  oldpeak  slope  \\\n",
       "0   52    1   0       125   212    0        1      168      0    1.000      2   \n",
       "1   53    1   0       140   203    1        0      155      1    3.100      0   \n",
       "2   70    1   0       145   174    0        1      125      1    2.600      0   \n",
       "3   61    1   0       148   203    0        1      161      0    0.000      2   \n",
       "4   62    0   0       138   294    1        1      106      0    1.900      1   \n",
       "\n",
       "   ca  thal  target  \n",
       "0   2     3       0  \n",
       "1   0     3       0  \n",
       "2   0     3       0  \n",
       "3   1     3       0  \n",
       "4   3     2       0  "
      ]
     },
     "execution_count": 7,
     "metadata": {},
     "output_type": "execute_result"
    }
   ],
   "source": [
    "# Loading Dataset\n",
    "heart = pd.read_csv('./datasets/heart.csv')\n",
    "\n",
    "# Inspecting Dataset\n",
    "heart.head()"
   ]
  },
  {
   "cell_type": "code",
   "execution_count": 5,
   "metadata": {},
   "outputs": [
    {
     "name": "stdout",
     "output_type": "stream",
     "text": [
      "##################################################\n",
      "Total Rows: 1025\n",
      "Total Columns: 14\n",
      "################################################## \n",
      "\n",
      "<class 'pandas.core.frame.DataFrame'>\n",
      "RangeIndex: 1025 entries, 0 to 1024\n",
      "Data columns (total 14 columns):\n",
      " #   Column    Non-Null Count  Dtype  \n",
      "---  ------    --------------  -----  \n",
      " 0   age       1025 non-null   int64  \n",
      " 1   sex       1025 non-null   int64  \n",
      " 2   cp        1025 non-null   int64  \n",
      " 3   trestbps  1025 non-null   int64  \n",
      " 4   chol      1025 non-null   int64  \n",
      " 5   fbs       1025 non-null   int64  \n",
      " 6   restecg   1025 non-null   int64  \n",
      " 7   thalach   1025 non-null   int64  \n",
      " 8   exang     1025 non-null   int64  \n",
      " 9   oldpeak   1025 non-null   float64\n",
      " 10  slope     1025 non-null   int64  \n",
      " 11  ca        1025 non-null   int64  \n",
      " 12  thal      1025 non-null   int64  \n",
      " 13  target    1025 non-null   int64  \n",
      "dtypes: float64(1), int64(13)\n",
      "\n",
      "##################################################\n"
     ]
    }
   ],
   "source": [
    "# Dataset info\n",
    "print('#' * 50)\n",
    "print('Total Rows:', heart.shape[0])\n",
    "print('Total Columns:', heart.shape[1])\n",
    "print('#' * 50, '\\n')\n",
    "heart.info(memory_usage=False)\n",
    "print('\\n')\n",
    "print('#' * 50)"
   ]
  },
  {
   "cell_type": "code",
   "execution_count": 6,
   "metadata": {},
   "outputs": [
    {
     "name": "stdout",
     "output_type": "stream",
     "text": [
      "################################################################\n",
      "Descriptive Statistics\n",
      "################################################################\n"
     ]
    },
    {
     "data": {
      "text/html": [
       "<div>\n",
       "<style scoped>\n",
       "    .dataframe tbody tr th:only-of-type {\n",
       "        vertical-align: middle;\n",
       "    }\n",
       "\n",
       "    .dataframe tbody tr th {\n",
       "        vertical-align: top;\n",
       "    }\n",
       "\n",
       "    .dataframe thead th {\n",
       "        text-align: right;\n",
       "    }\n",
       "</style>\n",
       "<table border=\"1\" class=\"dataframe\">\n",
       "  <thead>\n",
       "    <tr style=\"text-align: right;\">\n",
       "      <th></th>\n",
       "      <th>age</th>\n",
       "      <th>sex</th>\n",
       "      <th>cp</th>\n",
       "      <th>trestbps</th>\n",
       "      <th>chol</th>\n",
       "      <th>fbs</th>\n",
       "      <th>restecg</th>\n",
       "      <th>thalach</th>\n",
       "      <th>exang</th>\n",
       "      <th>oldpeak</th>\n",
       "      <th>slope</th>\n",
       "      <th>ca</th>\n",
       "      <th>thal</th>\n",
       "      <th>target</th>\n",
       "    </tr>\n",
       "  </thead>\n",
       "  <tbody>\n",
       "    <tr>\n",
       "      <th>count</th>\n",
       "      <td>1025.000</td>\n",
       "      <td>1025.000</td>\n",
       "      <td>1025.000</td>\n",
       "      <td>1025.000</td>\n",
       "      <td>1025.000</td>\n",
       "      <td>1025.000</td>\n",
       "      <td>1025.000</td>\n",
       "      <td>1025.000</td>\n",
       "      <td>1025.000</td>\n",
       "      <td>1025.000</td>\n",
       "      <td>1025.000</td>\n",
       "      <td>1025.000</td>\n",
       "      <td>1025.000</td>\n",
       "      <td>1025.000</td>\n",
       "    </tr>\n",
       "    <tr>\n",
       "      <th>mean</th>\n",
       "      <td>54.434</td>\n",
       "      <td>0.696</td>\n",
       "      <td>0.942</td>\n",
       "      <td>131.612</td>\n",
       "      <td>246.000</td>\n",
       "      <td>0.149</td>\n",
       "      <td>0.530</td>\n",
       "      <td>149.114</td>\n",
       "      <td>0.337</td>\n",
       "      <td>1.072</td>\n",
       "      <td>1.385</td>\n",
       "      <td>0.754</td>\n",
       "      <td>2.324</td>\n",
       "      <td>0.513</td>\n",
       "    </tr>\n",
       "    <tr>\n",
       "      <th>std</th>\n",
       "      <td>9.072</td>\n",
       "      <td>0.460</td>\n",
       "      <td>1.030</td>\n",
       "      <td>17.517</td>\n",
       "      <td>51.593</td>\n",
       "      <td>0.357</td>\n",
       "      <td>0.528</td>\n",
       "      <td>23.006</td>\n",
       "      <td>0.473</td>\n",
       "      <td>1.175</td>\n",
       "      <td>0.618</td>\n",
       "      <td>1.031</td>\n",
       "      <td>0.621</td>\n",
       "      <td>0.500</td>\n",
       "    </tr>\n",
       "    <tr>\n",
       "      <th>min</th>\n",
       "      <td>29.000</td>\n",
       "      <td>0.000</td>\n",
       "      <td>0.000</td>\n",
       "      <td>94.000</td>\n",
       "      <td>126.000</td>\n",
       "      <td>0.000</td>\n",
       "      <td>0.000</td>\n",
       "      <td>71.000</td>\n",
       "      <td>0.000</td>\n",
       "      <td>0.000</td>\n",
       "      <td>0.000</td>\n",
       "      <td>0.000</td>\n",
       "      <td>0.000</td>\n",
       "      <td>0.000</td>\n",
       "    </tr>\n",
       "    <tr>\n",
       "      <th>25%</th>\n",
       "      <td>48.000</td>\n",
       "      <td>0.000</td>\n",
       "      <td>0.000</td>\n",
       "      <td>120.000</td>\n",
       "      <td>211.000</td>\n",
       "      <td>0.000</td>\n",
       "      <td>0.000</td>\n",
       "      <td>132.000</td>\n",
       "      <td>0.000</td>\n",
       "      <td>0.000</td>\n",
       "      <td>1.000</td>\n",
       "      <td>0.000</td>\n",
       "      <td>2.000</td>\n",
       "      <td>0.000</td>\n",
       "    </tr>\n",
       "    <tr>\n",
       "      <th>50%</th>\n",
       "      <td>56.000</td>\n",
       "      <td>1.000</td>\n",
       "      <td>1.000</td>\n",
       "      <td>130.000</td>\n",
       "      <td>240.000</td>\n",
       "      <td>0.000</td>\n",
       "      <td>1.000</td>\n",
       "      <td>152.000</td>\n",
       "      <td>0.000</td>\n",
       "      <td>0.800</td>\n",
       "      <td>1.000</td>\n",
       "      <td>0.000</td>\n",
       "      <td>2.000</td>\n",
       "      <td>1.000</td>\n",
       "    </tr>\n",
       "    <tr>\n",
       "      <th>75%</th>\n",
       "      <td>61.000</td>\n",
       "      <td>1.000</td>\n",
       "      <td>2.000</td>\n",
       "      <td>140.000</td>\n",
       "      <td>275.000</td>\n",
       "      <td>0.000</td>\n",
       "      <td>1.000</td>\n",
       "      <td>166.000</td>\n",
       "      <td>1.000</td>\n",
       "      <td>1.800</td>\n",
       "      <td>2.000</td>\n",
       "      <td>1.000</td>\n",
       "      <td>3.000</td>\n",
       "      <td>1.000</td>\n",
       "    </tr>\n",
       "    <tr>\n",
       "      <th>max</th>\n",
       "      <td>77.000</td>\n",
       "      <td>1.000</td>\n",
       "      <td>3.000</td>\n",
       "      <td>200.000</td>\n",
       "      <td>564.000</td>\n",
       "      <td>1.000</td>\n",
       "      <td>2.000</td>\n",
       "      <td>202.000</td>\n",
       "      <td>1.000</td>\n",
       "      <td>6.200</td>\n",
       "      <td>2.000</td>\n",
       "      <td>4.000</td>\n",
       "      <td>3.000</td>\n",
       "      <td>1.000</td>\n",
       "    </tr>\n",
       "  </tbody>\n",
       "</table>\n",
       "</div>"
      ],
      "text/plain": [
       "           age      sex       cp  trestbps     chol      fbs  restecg  \\\n",
       "count 1025.000 1025.000 1025.000  1025.000 1025.000 1025.000 1025.000   \n",
       "mean    54.434    0.696    0.942   131.612  246.000    0.149    0.530   \n",
       "std      9.072    0.460    1.030    17.517   51.593    0.357    0.528   \n",
       "min     29.000    0.000    0.000    94.000  126.000    0.000    0.000   \n",
       "25%     48.000    0.000    0.000   120.000  211.000    0.000    0.000   \n",
       "50%     56.000    1.000    1.000   130.000  240.000    0.000    1.000   \n",
       "75%     61.000    1.000    2.000   140.000  275.000    0.000    1.000   \n",
       "max     77.000    1.000    3.000   200.000  564.000    1.000    2.000   \n",
       "\n",
       "       thalach    exang  oldpeak    slope       ca     thal   target  \n",
       "count 1025.000 1025.000 1025.000 1025.000 1025.000 1025.000 1025.000  \n",
       "mean   149.114    0.337    1.072    1.385    0.754    2.324    0.513  \n",
       "std     23.006    0.473    1.175    0.618    1.031    0.621    0.500  \n",
       "min     71.000    0.000    0.000    0.000    0.000    0.000    0.000  \n",
       "25%    132.000    0.000    0.000    1.000    0.000    2.000    0.000  \n",
       "50%    152.000    0.000    0.800    1.000    0.000    2.000    1.000  \n",
       "75%    166.000    1.000    1.800    2.000    1.000    3.000    1.000  \n",
       "max    202.000    1.000    6.200    2.000    4.000    3.000    1.000  "
      ]
     },
     "execution_count": 6,
     "metadata": {},
     "output_type": "execute_result"
    }
   ],
   "source": [
    "#Descriptive Statistics\n",
    "print('#' * 64)\n",
    "print('Descriptive Statistics')\n",
    "print('#' * 64)\n",
    "heart.select_dtypes(exclude='object').describe()"
   ]
  },
  {
   "cell_type": "markdown",
   "metadata": {},
   "source": [
    "# 2.2 Data Quality\n",
    "\n",
    "In this part, we'll be assessing the data quality of our dataset, looking for NULL, missing and outliers values, in which, we should use an approach that benefit our analysis. \n",
    "\n",
    "### 2.2.1 Missing / NULL Values\n",
    "\n"
   ]
  },
  {
   "cell_type": "code",
   "execution_count": 8,
   "metadata": {},
   "outputs": [
    {
     "name": "stdout",
     "output_type": "stream",
     "text": [
      "###################################\n",
      "Checking NA Values \n",
      "###################################\n",
      "age         0\n",
      "sex         0\n",
      "cp          0\n",
      "trestbps    0\n",
      "chol        0\n",
      "fbs         0\n",
      "restecg     0\n",
      "thalach     0\n",
      "exang       0\n",
      "oldpeak     0\n",
      "slope       0\n",
      "ca          0\n",
      "thal        0\n",
      "target      0\n",
      "dtype: int64\n",
      "###################################\n"
     ]
    }
   ],
   "source": [
    "# Dataset info\n",
    "print('#' * 35)\n",
    "print('Checking NA Values ')\n",
    "print('#' * 35)\n",
    "print(heart.isna().sum())\n",
    "print('#' * 35,)"
   ]
  },
  {
   "cell_type": "code",
   "execution_count": 9,
   "metadata": {},
   "outputs": [
    {
     "name": "stdout",
     "output_type": "stream",
     "text": [
      "###################################\n",
      "Checking NULL Values \n",
      "###################################\n",
      "age         0\n",
      "sex         0\n",
      "cp          0\n",
      "trestbps    0\n",
      "chol        0\n",
      "fbs         0\n",
      "restecg     0\n",
      "thalach     0\n",
      "exang       0\n",
      "oldpeak     0\n",
      "slope       0\n",
      "ca          0\n",
      "thal        0\n",
      "target      0\n",
      "dtype: int64\n",
      "###################################\n"
     ]
    }
   ],
   "source": [
    "# Dataset info\n",
    "print('#' * 35)\n",
    "print('Checking NULL Values ')\n",
    "print('#' * 35)\n",
    "print(heart.isnull().sum())\n",
    "print('#' * 35,)"
   ]
  },
  {
   "cell_type": "code",
   "execution_count": 10,
   "metadata": {},
   "outputs": [
    {
     "name": "stdout",
     "output_type": "stream",
     "text": [
      "###################################\n",
      "Fixing Data Type\n",
      "###################################\n",
      "sex        object\n",
      "cp         object\n",
      "fbs        object\n",
      "restecg    object\n",
      "exang      object\n",
      "slope      object\n",
      "ca         object\n",
      "thal       object\n",
      "dtype: object\n",
      "###################################\n"
     ]
    }
   ],
   "source": [
    "# Fixing and inspecting datatypes\n",
    "print('#' * 35)\n",
    "print('Fixing Data Type')\n",
    "print('#' * 35)\n",
    "fix_dtype          = ['sex', 'cp', 'fbs', 'restecg', 'exang', 'slope', 'ca', 'thal']\n",
    "heart[fix_dtype]   = heart[fix_dtype].astype(object)\n",
    "print(heart[fix_dtype].dtypes)\n",
    "print('#' * 35)"
   ]
  },
  {
   "cell_type": "code",
   "execution_count": 13,
   "metadata": {},
   "outputs": [
    {
     "data": {
      "image/png": "[encoded data removed]",
      "text/plain": [
       "<Figure size 1200x600 with 2 Axes>"
      ]
     },
     "metadata": {},
     "output_type": "display_data"
    }
   ],
   "source": [
    "# Create histogram of Sex by Age\n",
    "fig = plt.figure(figsize=(12, 6))\n",
    "\n",
    "ax1 = fig.add_subplot(1,2,1)\n",
    "sns.histplot(data=heart[heart.sex == 0], x=heart.age[heart.sex == 0], color='#3597e8',label ='Female')\n",
    "ax1.set_title('Female vs. Age')\n",
    "ax1.set_ylabel('Frequency')\n",
    "ax1.set_xlabel('Age')\n",
    "\n",
    "ax2 = fig.add_subplot(1,2,2)\n",
    "sns.histplot(data=heart[heart.sex == 1], x=heart.age[heart.sex == 1], color='#ff964f', label='Male')\n",
    "ax2.set_title('Male vs. Age')\n",
    "ax2.set_ylabel('Frequency')\n",
    "ax2.set_xlabel('Age')\n",
    "\n",
    "plt.suptitle('Sex Distribution by Age', fontweight='heavy', fontsize='12', fontfamily='sans-serif')\n",
    "plt.show()"
   ]
  },
  {
   "cell_type": "code",
   "execution_count": 14,
   "metadata": {},
   "outputs": [
    {
     "data": {
      "text/plain": [
       "<AxesSubplot:>"
      ]
     },
     "execution_count": 14,
     "metadata": {},
     "output_type": "execute_result"
    },
    {
     "data": {
      "image/png": "[encoded data removed]",
      "text/plain": [
       "<Figure size 1200x600 with 2 Axes>"
      ]
     },
     "metadata": {},
     "output_type": "display_data"
    }
   ],
   "source": [
    "# Correlation between variables only non-categorial variables\n",
    "plt.figure(figsize=(12,6))\n",
    "sns.heatmap(heart.corr(), linewidth = 0.1, cmap='coolwarm')"
   ]
  },
  {
   "cell_type": "code",
   "execution_count": 16,
   "metadata": {},
   "outputs": [
    {
     "data": {
      "image/png": "[encoded data removed]",
      "text/plain": [
       "<Figure size 1400x600 with 1 Axes>"
      ]
     },
     "metadata": {},
     "output_type": "display_data"
    }
   ],
   "source": [
    "# Correlation between variables only non-categorial variables\n",
    "plt.figure(figsize=(14,6))\n",
    "sns.boxplot(data=heart, x='target', y='age', hue='sex');"
   ]
  },
  {
   "cell_type": "code",
   "execution_count": null,
   "metadata": {},
   "outputs": [],
   "source": []
  },
  {
   "cell_type": "code",
   "execution_count": null,
   "metadata": {},
   "outputs": [],
   "source": []
  },
  {
   "cell_type": "markdown",
   "metadata": {},
   "source": []
  },
  {
   "cell_type": "markdown",
   "metadata": {},
   "source": []
  },
  {
   "cell_type": "markdown",
   "metadata": {},
   "source": [
    "# 2.3 Data Preparation"
   ]
  },
  {
   "cell_type": "code",
   "execution_count": null,
   "metadata": {},
   "outputs": [],
   "source": []
  }
 ],
 "metadata": {
  "kernelspec": {
   "display_name": "Python 3.9.13 ('base')",
   "language": "python",
   "name": "python3"
  },
  "language_info": {
   "codemirror_mode": {
    "name": "ipython",
    "version": 3
   },
   "file_extension": ".py",
   "mimetype": "text/x-python",
   "name": "python",
   "nbconvert_exporter": "python",
   "pygments_lexer": "ipython3",
   "version": "3.9.13"
  },
  "orig_nbformat": 4,
  "vscode": {
   "interpreter": {
    "hash": "3cdc2136a0c3ff6ee581d9355ebf305035e9e0ffdb59b37da8e4674310bf0233"
   }
  }
 },
 "nbformat": 4,
 "nbformat_minor": 2
}
