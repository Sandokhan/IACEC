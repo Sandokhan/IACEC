{
 "cells": [
  {
   "cell_type": "markdown",
   "metadata": {},
   "source": [
    "- Business understanding – What does the business need?\n",
    "- Data understanding – What data do we have / need? Is it clean?\n",
    "- Data preparation – How do we organize the data for modeling?\n",
    "- Modeling – What modeling techniques should we apply?\n",
    "- Evaluation – Which model best meets the business objectives?"
   ]
  },
  {
   "cell_type": "markdown",
   "metadata": {},
   "source": [
    "# 1. Business Understanding\n",
    "\n",
    "In this project, we are trying to _assess the performance of different machine learning models_, to do so, those models should be able to predict whether a person has heart disease or not.\n",
    "\n",
    "Thus, we'll be using mainly Python as our programming language and several libraries, to perform different tasks, such as:\n",
    "\n",
    "* **Data Visualization**: Seaborn, Matplotlib, Graphviz, and yellowbrick;\n",
    "* **Data Manipulation**: Pandas, and Numpy;\n",
    "* **ML**: Scikit-Learn.\n",
    "\n",
    "Although, there're a several Machine Learning type (Supervised, Unsupervised, and Reinforncement Learning), in this project we'll focus on Supervised Learning, and also use 3 difference algorithms: KNN, Decision Tree, and Logistic Regression.\n"
   ]
  },
  {
   "cell_type": "code",
   "execution_count": 1,
   "metadata": {},
   "outputs": [],
   "source": [
    "# Importing Libraries\n",
    "\n",
    "# Manipulation\n",
    "import pandas as pd\n",
    "import numpy as np\n",
    "\n",
    "# Visualisation\n",
    "import matplotlib.pyplot as plt\n",
    "import seaborn as sns\n",
    "import graphviz as gp\n",
    "from yellowbrick.classifier import ClassificationReport\n",
    "from yellowbrick.classifier import confusion_matrix as cm\n",
    "from IPython.display import Image\n",
    "\n",
    "# ML\n",
    "import statsmodels.api as sm\n",
    "from sklearn import tree\n",
    "from sklearn.pipeline import Pipeline\n",
    "from sklearn.linear_model import LogisticRegression, LinearRegression\n",
    "from sklearn.neighbors import KNeighborsClassifier\n",
    "from sklearn.tree import DecisionTreeClassifier\n",
    "\n",
    "from sklearn.preprocessing import MinMaxScaler, StandardScaler\n",
    "from sklearn.metrics import classification_report, accuracy_score, confusion_matrix, mean_squared_error,roc_auc_score\n",
    "from sklearn.model_selection import train_test_split, cross_val_score, KFold, GridSearchCV\n",
    "\n",
    "\n",
    "# Setting Configs\n",
    "import warnings\n",
    "warnings.filterwarnings(\"ignore\")\n",
    "pd.set_option('display.float_format', lambda x: '%.3f' % x)\n",
    "plt.style.use('ggplot')"
   ]
  },
  {
   "cell_type": "markdown",
   "metadata": {},
   "source": [
    "# 2. Data Understanding\n",
    "\n",
    "\n",
    "## Dataset Description \n",
    "\n",
    "This data set dates from 1988 and consists of four databases: Cleveland, Hungary, Switzerland, and Long Beach V. It contains 76 attributes, including the predicted attribute, but all published experiments refer to using a subset of 14 of them. The \"target\" field refers to the presence of heart disease in the patient. It is integer valued 0 = no disease and 1 = disease.\n",
    "\n",
    "**The names and social security numbers of the patients were recently removed from the database, replaced with dummy values.**\n",
    "\n",
    "https://www.kaggle.com/datasets/johnsmith88/heart-disease-dataset\n",
    "\n",
    "## 2.1 Describe Data\n",
    "\n",
    "As can be seen bellow our dataset have _1025 records_ and _14 features_.\n",
    "\n",
    "### Attribute Information\n",
    "\n",
    "- Age (age in years)\n",
    "- Sex (1 = male; 0 = female)\n",
    "- CP (chest pain type)\n",
    "- TRESTBPS (resting blood pressure (in mm Hg on admission to the hospital))\n",
    "- CHOL (serum cholestoral in mg/dl)\n",
    "- FPS (fasting blood sugar > 120 mg/dl) (1 = true; 0 = false)\n",
    "- RESTECH (resting electrocardiographic results)\n",
    "- THALACH (maximum heart rate achieved)\n",
    "- EXANG (exercise induced angina (1 = yes; 0 = no))\n",
    "- OLDPEAK (ST depression induced by exercise relative to rest)\n",
    "- SLOPE (the slope of the peak exercise ST segment)\n",
    "- CA (number of major vessels (0-3) colored by flourosopy)\n",
    "- THAL (3 = normal; 6 = fixed defect; 7 = reversable defect)\n",
    "- TARGET (1 or 0)"
   ]
  },
  {
   "cell_type": "code",
   "execution_count": 2,
   "metadata": {},
   "outputs": [
    {
     "data": {
      "text/html": [
       "<div>\n",
       "<style scoped>\n",
       "    .dataframe tbody tr th:only-of-type {\n",
       "        vertical-align: middle;\n",
       "    }\n",
       "\n",
       "    .dataframe tbody tr th {\n",
       "        vertical-align: top;\n",
       "    }\n",
       "\n",
       "    .dataframe thead th {\n",
       "        text-align: right;\n",
       "    }\n",
       "</style>\n",
       "<table border=\"1\" class=\"dataframe\">\n",
       "  <thead>\n",
       "    <tr style=\"text-align: right;\">\n",
       "      <th></th>\n",
       "      <th>age</th>\n",
       "      <th>sex</th>\n",
       "      <th>cp</th>\n",
       "      <th>trestbps</th>\n",
       "      <th>chol</th>\n",
       "      <th>fbs</th>\n",
       "      <th>restecg</th>\n",
       "      <th>thalach</th>\n",
       "      <th>exang</th>\n",
       "      <th>oldpeak</th>\n",
       "      <th>slope</th>\n",
       "      <th>ca</th>\n",
       "      <th>thal</th>\n",
       "      <th>target</th>\n",
       "    </tr>\n",
       "  </thead>\n",
       "  <tbody>\n",
       "    <tr>\n",
       "      <th>0</th>\n",
       "      <td>52</td>\n",
       "      <td>1</td>\n",
       "      <td>0</td>\n",
       "      <td>125</td>\n",
       "      <td>212</td>\n",
       "      <td>0</td>\n",
       "      <td>1</td>\n",
       "      <td>168</td>\n",
       "      <td>0</td>\n",
       "      <td>1.000</td>\n",
       "      <td>2</td>\n",
       "      <td>2</td>\n",
       "      <td>3</td>\n",
       "      <td>0</td>\n",
       "    </tr>\n",
       "    <tr>\n",
       "      <th>1</th>\n",
       "      <td>53</td>\n",
       "      <td>1</td>\n",
       "      <td>0</td>\n",
       "      <td>140</td>\n",
       "      <td>203</td>\n",
       "      <td>1</td>\n",
       "      <td>0</td>\n",
       "      <td>155</td>\n",
       "      <td>1</td>\n",
       "      <td>3.100</td>\n",
       "      <td>0</td>\n",
       "      <td>0</td>\n",
       "      <td>3</td>\n",
       "      <td>0</td>\n",
       "    </tr>\n",
       "    <tr>\n",
       "      <th>2</th>\n",
       "      <td>70</td>\n",
       "      <td>1</td>\n",
       "      <td>0</td>\n",
       "      <td>145</td>\n",
       "      <td>174</td>\n",
       "      <td>0</td>\n",
       "      <td>1</td>\n",
       "      <td>125</td>\n",
       "      <td>1</td>\n",
       "      <td>2.600</td>\n",
       "      <td>0</td>\n",
       "      <td>0</td>\n",
       "      <td>3</td>\n",
       "      <td>0</td>\n",
       "    </tr>\n",
       "    <tr>\n",
       "      <th>3</th>\n",
       "      <td>61</td>\n",
       "      <td>1</td>\n",
       "      <td>0</td>\n",
       "      <td>148</td>\n",
       "      <td>203</td>\n",
       "      <td>0</td>\n",
       "      <td>1</td>\n",
       "      <td>161</td>\n",
       "      <td>0</td>\n",
       "      <td>0.000</td>\n",
       "      <td>2</td>\n",
       "      <td>1</td>\n",
       "      <td>3</td>\n",
       "      <td>0</td>\n",
       "    </tr>\n",
       "    <tr>\n",
       "      <th>4</th>\n",
       "      <td>62</td>\n",
       "      <td>0</td>\n",
       "      <td>0</td>\n",
       "      <td>138</td>\n",
       "      <td>294</td>\n",
       "      <td>1</td>\n",
       "      <td>1</td>\n",
       "      <td>106</td>\n",
       "      <td>0</td>\n",
       "      <td>1.900</td>\n",
       "      <td>1</td>\n",
       "      <td>3</td>\n",
       "      <td>2</td>\n",
       "      <td>0</td>\n",
       "    </tr>\n",
       "  </tbody>\n",
       "</table>\n",
       "</div>"
      ],
      "text/plain": [
       "   age  sex  cp  trestbps  chol  fbs  restecg  thalach  exang  oldpeak  slope  \\\n",
       "0   52    1   0       125   212    0        1      168      0    1.000      2   \n",
       "1   53    1   0       140   203    1        0      155      1    3.100      0   \n",
       "2   70    1   0       145   174    0        1      125      1    2.600      0   \n",
       "3   61    1   0       148   203    0        1      161      0    0.000      2   \n",
       "4   62    0   0       138   294    1        1      106      0    1.900      1   \n",
       "\n",
       "   ca  thal  target  \n",
       "0   2     3       0  \n",
       "1   0     3       0  \n",
       "2   0     3       0  \n",
       "3   1     3       0  \n",
       "4   3     2       0  "
      ]
     },
     "execution_count": 2,
     "metadata": {},
     "output_type": "execute_result"
    }
   ],
   "source": [
    "# Loading Dataset\n",
    "heart = pd.read_csv('./datasets/heart.csv')\n",
    "\n",
    "# Inspecting Dataset\n",
    "heart.head()"
   ]
  },
  {
   "cell_type": "code",
   "execution_count": 3,
   "metadata": {},
   "outputs": [
    {
     "name": "stdout",
     "output_type": "stream",
     "text": [
      "##################################################\n",
      "Total Rows: 1025\n",
      "Total Columns: 14\n",
      "################################################## \n",
      "\n",
      "<class 'pandas.core.frame.DataFrame'>\n",
      "RangeIndex: 1025 entries, 0 to 1024\n",
      "Data columns (total 14 columns):\n",
      " #   Column    Non-Null Count  Dtype  \n",
      "---  ------    --------------  -----  \n",
      " 0   age       1025 non-null   int64  \n",
      " 1   sex       1025 non-null   int64  \n",
      " 2   cp        1025 non-null   int64  \n",
      " 3   trestbps  1025 non-null   int64  \n",
      " 4   chol      1025 non-null   int64  \n",
      " 5   fbs       1025 non-null   int64  \n",
      " 6   restecg   1025 non-null   int64  \n",
      " 7   thalach   1025 non-null   int64  \n",
      " 8   exang     1025 non-null   int64  \n",
      " 9   oldpeak   1025 non-null   float64\n",
      " 10  slope     1025 non-null   int64  \n",
      " 11  ca        1025 non-null   int64  \n",
      " 12  thal      1025 non-null   int64  \n",
      " 13  target    1025 non-null   int64  \n",
      "dtypes: float64(1), int64(13)\n",
      "\n",
      "##################################################\n"
     ]
    }
   ],
   "source": [
    "# Dataset info\n",
    "print('#' * 50)\n",
    "print('Total Rows:', heart.shape[0])\n",
    "print('Total Columns:', heart.shape[1])\n",
    "print('#' * 50, '\\n')\n",
    "heart.info(memory_usage=False)\n",
    "print('\\n')\n",
    "print('#' * 50)"
   ]
  },
  {
   "cell_type": "code",
   "execution_count": 4,
   "metadata": {},
   "outputs": [
    {
     "name": "stdout",
     "output_type": "stream",
     "text": [
      "################################################################\n",
      "Descriptive Statistics\n",
      "################################################################\n"
     ]
    },
    {
     "data": {
      "text/html": [
       "<div>\n",
       "<style scoped>\n",
       "    .dataframe tbody tr th:only-of-type {\n",
       "        vertical-align: middle;\n",
       "    }\n",
       "\n",
       "    .dataframe tbody tr th {\n",
       "        vertical-align: top;\n",
       "    }\n",
       "\n",
       "    .dataframe thead th {\n",
       "        text-align: right;\n",
       "    }\n",
       "</style>\n",
       "<table border=\"1\" class=\"dataframe\">\n",
       "  <thead>\n",
       "    <tr style=\"text-align: right;\">\n",
       "      <th></th>\n",
       "      <th>age</th>\n",
       "      <th>sex</th>\n",
       "      <th>cp</th>\n",
       "      <th>trestbps</th>\n",
       "      <th>chol</th>\n",
       "      <th>fbs</th>\n",
       "      <th>restecg</th>\n",
       "      <th>thalach</th>\n",
       "      <th>exang</th>\n",
       "      <th>oldpeak</th>\n",
       "      <th>slope</th>\n",
       "      <th>ca</th>\n",
       "      <th>thal</th>\n",
       "      <th>target</th>\n",
       "    </tr>\n",
       "  </thead>\n",
       "  <tbody>\n",
       "    <tr>\n",
       "      <th>count</th>\n",
       "      <td>1025.000</td>\n",
       "      <td>1025.000</td>\n",
       "      <td>1025.000</td>\n",
       "      <td>1025.000</td>\n",
       "      <td>1025.000</td>\n",
       "      <td>1025.000</td>\n",
       "      <td>1025.000</td>\n",
       "      <td>1025.000</td>\n",
       "      <td>1025.000</td>\n",
       "      <td>1025.000</td>\n",
       "      <td>1025.000</td>\n",
       "      <td>1025.000</td>\n",
       "      <td>1025.000</td>\n",
       "      <td>1025.000</td>\n",
       "    </tr>\n",
       "    <tr>\n",
       "      <th>mean</th>\n",
       "      <td>54.434</td>\n",
       "      <td>0.696</td>\n",
       "      <td>0.942</td>\n",
       "      <td>131.612</td>\n",
       "      <td>246.000</td>\n",
       "      <td>0.149</td>\n",
       "      <td>0.530</td>\n",
       "      <td>149.114</td>\n",
       "      <td>0.337</td>\n",
       "      <td>1.072</td>\n",
       "      <td>1.385</td>\n",
       "      <td>0.754</td>\n",
       "      <td>2.324</td>\n",
       "      <td>0.513</td>\n",
       "    </tr>\n",
       "    <tr>\n",
       "      <th>std</th>\n",
       "      <td>9.072</td>\n",
       "      <td>0.460</td>\n",
       "      <td>1.030</td>\n",
       "      <td>17.517</td>\n",
       "      <td>51.593</td>\n",
       "      <td>0.357</td>\n",
       "      <td>0.528</td>\n",
       "      <td>23.006</td>\n",
       "      <td>0.473</td>\n",
       "      <td>1.175</td>\n",
       "      <td>0.618</td>\n",
       "      <td>1.031</td>\n",
       "      <td>0.621</td>\n",
       "      <td>0.500</td>\n",
       "    </tr>\n",
       "    <tr>\n",
       "      <th>min</th>\n",
       "      <td>29.000</td>\n",
       "      <td>0.000</td>\n",
       "      <td>0.000</td>\n",
       "      <td>94.000</td>\n",
       "      <td>126.000</td>\n",
       "      <td>0.000</td>\n",
       "      <td>0.000</td>\n",
       "      <td>71.000</td>\n",
       "      <td>0.000</td>\n",
       "      <td>0.000</td>\n",
       "      <td>0.000</td>\n",
       "      <td>0.000</td>\n",
       "      <td>0.000</td>\n",
       "      <td>0.000</td>\n",
       "    </tr>\n",
       "    <tr>\n",
       "      <th>25%</th>\n",
       "      <td>48.000</td>\n",
       "      <td>0.000</td>\n",
       "      <td>0.000</td>\n",
       "      <td>120.000</td>\n",
       "      <td>211.000</td>\n",
       "      <td>0.000</td>\n",
       "      <td>0.000</td>\n",
       "      <td>132.000</td>\n",
       "      <td>0.000</td>\n",
       "      <td>0.000</td>\n",
       "      <td>1.000</td>\n",
       "      <td>0.000</td>\n",
       "      <td>2.000</td>\n",
       "      <td>0.000</td>\n",
       "    </tr>\n",
       "    <tr>\n",
       "      <th>50%</th>\n",
       "      <td>56.000</td>\n",
       "      <td>1.000</td>\n",
       "      <td>1.000</td>\n",
       "      <td>130.000</td>\n",
       "      <td>240.000</td>\n",
       "      <td>0.000</td>\n",
       "      <td>1.000</td>\n",
       "      <td>152.000</td>\n",
       "      <td>0.000</td>\n",
       "      <td>0.800</td>\n",
       "      <td>1.000</td>\n",
       "      <td>0.000</td>\n",
       "      <td>2.000</td>\n",
       "      <td>1.000</td>\n",
       "    </tr>\n",
       "    <tr>\n",
       "      <th>75%</th>\n",
       "      <td>61.000</td>\n",
       "      <td>1.000</td>\n",
       "      <td>2.000</td>\n",
       "      <td>140.000</td>\n",
       "      <td>275.000</td>\n",
       "      <td>0.000</td>\n",
       "      <td>1.000</td>\n",
       "      <td>166.000</td>\n",
       "      <td>1.000</td>\n",
       "      <td>1.800</td>\n",
       "      <td>2.000</td>\n",
       "      <td>1.000</td>\n",
       "      <td>3.000</td>\n",
       "      <td>1.000</td>\n",
       "    </tr>\n",
       "    <tr>\n",
       "      <th>max</th>\n",
       "      <td>77.000</td>\n",
       "      <td>1.000</td>\n",
       "      <td>3.000</td>\n",
       "      <td>200.000</td>\n",
       "      <td>564.000</td>\n",
       "      <td>1.000</td>\n",
       "      <td>2.000</td>\n",
       "      <td>202.000</td>\n",
       "      <td>1.000</td>\n",
       "      <td>6.200</td>\n",
       "      <td>2.000</td>\n",
       "      <td>4.000</td>\n",
       "      <td>3.000</td>\n",
       "      <td>1.000</td>\n",
       "    </tr>\n",
       "  </tbody>\n",
       "</table>\n",
       "</div>"
      ],
      "text/plain": [
       "           age      sex       cp  trestbps     chol      fbs  restecg  \\\n",
       "count 1025.000 1025.000 1025.000  1025.000 1025.000 1025.000 1025.000   \n",
       "mean    54.434    0.696    0.942   131.612  246.000    0.149    0.530   \n",
       "std      9.072    0.460    1.030    17.517   51.593    0.357    0.528   \n",
       "min     29.000    0.000    0.000    94.000  126.000    0.000    0.000   \n",
       "25%     48.000    0.000    0.000   120.000  211.000    0.000    0.000   \n",
       "50%     56.000    1.000    1.000   130.000  240.000    0.000    1.000   \n",
       "75%     61.000    1.000    2.000   140.000  275.000    0.000    1.000   \n",
       "max     77.000    1.000    3.000   200.000  564.000    1.000    2.000   \n",
       "\n",
       "       thalach    exang  oldpeak    slope       ca     thal   target  \n",
       "count 1025.000 1025.000 1025.000 1025.000 1025.000 1025.000 1025.000  \n",
       "mean   149.114    0.337    1.072    1.385    0.754    2.324    0.513  \n",
       "std     23.006    0.473    1.175    0.618    1.031    0.621    0.500  \n",
       "min     71.000    0.000    0.000    0.000    0.000    0.000    0.000  \n",
       "25%    132.000    0.000    0.000    1.000    0.000    2.000    0.000  \n",
       "50%    152.000    0.000    0.800    1.000    0.000    2.000    1.000  \n",
       "75%    166.000    1.000    1.800    2.000    1.000    3.000    1.000  \n",
       "max    202.000    1.000    6.200    2.000    4.000    3.000    1.000  "
      ]
     },
     "execution_count": 4,
     "metadata": {},
     "output_type": "execute_result"
    }
   ],
   "source": [
    "#Descriptive Statistics\n",
    "print('#' * 64)\n",
    "print('Descriptive Statistics')\n",
    "print('#' * 64)\n",
    "heart.select_dtypes(exclude='object').describe()"
   ]
  },
  {
   "cell_type": "markdown",
   "metadata": {},
   "source": [
    "# 2.2 Data Quality\n",
    "\n",
    "In this part, we'll be assessing the data quality of our dataset, looking for incorrect datatypes,NULL, missing and outliers values, in which, we should use an approach that benefit our analysis. \n",
    "\n",
    "### 2.2.1 Missing / NULL Values\n",
    "\n",
    "We don't have neither null values nor missing values, but in case positive we could use two differnt approaches:\n",
    "\n",
    "* remove whole record, in some cases this could lead to significant information loss.\n",
    "* use a imputation method to substite the missing values of our dataset.\n",
    "\n",
    "\n"
   ]
  },
  {
   "cell_type": "code",
   "execution_count": 5,
   "metadata": {},
   "outputs": [
    {
     "name": "stdout",
     "output_type": "stream",
     "text": [
      "###################################\n",
      "Checking NA Values \n",
      "###################################\n",
      "age         0\n",
      "sex         0\n",
      "cp          0\n",
      "trestbps    0\n",
      "chol        0\n",
      "fbs         0\n",
      "restecg     0\n",
      "thalach     0\n",
      "exang       0\n",
      "oldpeak     0\n",
      "slope       0\n",
      "ca          0\n",
      "thal        0\n",
      "target      0\n",
      "dtype: int64\n",
      "###################################\n"
     ]
    }
   ],
   "source": [
    "# Dataset info\n",
    "print('#' * 35)\n",
    "print('Checking NA Values ')\n",
    "print('#' * 35)\n",
    "print(heart.isna().sum())\n",
    "print('#' * 35,)"
   ]
  },
  {
   "cell_type": "code",
   "execution_count": 6,
   "metadata": {},
   "outputs": [
    {
     "name": "stdout",
     "output_type": "stream",
     "text": [
      "###################################\n",
      "Checking NULL Values \n",
      "###################################\n",
      "age         0\n",
      "sex         0\n",
      "cp          0\n",
      "trestbps    0\n",
      "chol        0\n",
      "fbs         0\n",
      "restecg     0\n",
      "thalach     0\n",
      "exang       0\n",
      "oldpeak     0\n",
      "slope       0\n",
      "ca          0\n",
      "thal        0\n",
      "target      0\n",
      "dtype: int64\n",
      "###################################\n"
     ]
    }
   ],
   "source": [
    "# Dataset info\n",
    "print('#' * 35)\n",
    "print('Checking NULL Values ')\n",
    "print('#' * 35)\n",
    "print(heart.isnull().sum())\n",
    "print('#' * 35,)"
   ]
  },
  {
   "cell_type": "code",
   "execution_count": 7,
   "metadata": {},
   "outputs": [
    {
     "name": "stdout",
     "output_type": "stream",
     "text": [
      "###################################\n",
      "Fixing Data Type\n",
      "###################################\n",
      "sex        object\n",
      "cp         object\n",
      "fbs        object\n",
      "restecg    object\n",
      "exang      object\n",
      "slope      object\n",
      "ca         object\n",
      "thal       object\n",
      "dtype: object\n",
      "###################################\n"
     ]
    }
   ],
   "source": [
    "# Fixing and inspecting datatypes\n",
    "print('#' * 35)\n",
    "print('Fixing Data Type')\n",
    "print('#' * 35)\n",
    "fix_dtype          = ['sex', 'cp', 'fbs', 'restecg', 'exang', 'slope', 'ca', 'thal']\n",
    "heart[fix_dtype]   = heart[fix_dtype].astype(object)\n",
    "print(heart[fix_dtype].dtypes)\n",
    "print('#' * 35)"
   ]
  },
  {
   "cell_type": "code",
   "execution_count": 8,
   "metadata": {},
   "outputs": [
    {
     "data": {
      "image/png": "[encoded data removed]",
      "text/plain": [
       "<Figure size 1200x600 with 2 Axes>"
      ]
     },
     "metadata": {},
     "output_type": "display_data"
    }
   ],
   "source": [
    "# Create histogram of Sex by Age\n",
    "fig = plt.figure(figsize=(12, 6))\n",
    "\n",
    "ax1 = fig.add_subplot(1,2,1)\n",
    "sns.histplot(data=heart[heart.sex == 0], x=heart.age[heart.sex == 0], color='#3597e8',label ='Female')\n",
    "ax1.set_title('Female vs. Age')\n",
    "ax1.set_ylabel('Frequency')\n",
    "ax1.set_xlabel('Age')\n",
    "\n",
    "ax2 = fig.add_subplot(1,2,2)\n",
    "sns.histplot(data=heart[heart.sex == 1], x=heart.age[heart.sex == 1], color='#ff964f', label='Male')\n",
    "ax2.set_title('Male vs. Age')\n",
    "ax2.set_ylabel('Frequency')\n",
    "ax2.set_xlabel('Age')\n",
    "\n",
    "plt.suptitle('Sex Distribution by Age', fontweight='heavy', fontsize='12', fontfamily='sans-serif')\n",
    "plt.show()"
   ]
  },
  {
   "cell_type": "code",
   "execution_count": 9,
   "metadata": {},
   "outputs": [
    {
     "data": {
      "image/png": "[encoded data removed]",
      "text/plain": [
       "<Figure size 1200x600 with 2 Axes>"
      ]
     },
     "metadata": {},
     "output_type": "display_data"
    }
   ],
   "source": [
    "# Correlation between variables only non-categorial variables\n",
    "plt.figure(figsize=(12,6))\n",
    "sns.heatmap(heart.corr(), linewidth = 0.1, cmap='coolwarm');"
   ]
  },
  {
   "cell_type": "code",
   "execution_count": 10,
   "metadata": {},
   "outputs": [
    {
     "data": {
      "image/png": "[encoded data removed]",
      "text/plain": [
       "<Figure size 1200x1000 with 1 Axes>"
      ]
     },
     "metadata": {},
     "output_type": "display_data"
    }
   ],
   "source": [
    "# Visualizing heart diasease against sex and age\n",
    "plt.figure(figsize=(12,10))\n",
    "ax = sns.boxplot(data=heart, x='target', y='age', hue='sex')\n",
    "ax.set_xticklabels(['No Heart Disease', 'Heart Disease'])\n",
    "handles, _ = ax.get_legend_handles_labels()\n",
    "ax.legend(handles, [\"Female\", \"Male\"])\n",
    "plt.show()"
   ]
  },
  {
   "cell_type": "code",
   "execution_count": 11,
   "metadata": {},
   "outputs": [
    {
     "data": {
      "image/png": "[encoded data removed]",
      "text/plain": [
       "<Figure size 1200x600 with 1 Axes>"
      ]
     },
     "metadata": {},
     "output_type": "display_data"
    }
   ],
   "source": [
    "# Create histogram of Sex by Age\n",
    "fig = plt.figure(figsize=(12, 6))\n",
    "\n",
    "ax1 = sns.countplot(data=heart, x='cp', hue='target')\n",
    "ax1.set_title('Chest Pain (Level) vs. Heart Disease')\n",
    "ax1.set_ylabel('Frequency')\n",
    "plt.legend(labels = ['No Heart Disease', 'Heart Disease']);\n"
   ]
  },
  {
   "cell_type": "code",
   "execution_count": 12,
   "metadata": {},
   "outputs": [],
   "source": [
    "plt.figure(figsize=(15,10))\n",
    "sns.pairplot(heart,hue=\"target\")\n",
    "plt.title(\"Looking for Insites in Data\")\n",
    "plt.legend(labels = ['No Heart Disease', 'Heart Disease'])\n",
    "plt.tight_layout()\n",
    "plt.show()"
   ]
  },
  {
   "cell_type": "markdown",
   "metadata": {},
   "source": [
    "# 3 Data Preparation\n",
    "\n",
    "In this part, we should clean and perform several processes in order to our dataset be clean and noiseless enough to help the machine learning methods perform well.\n",
    "\n",
    "Thus, in our case we need to perform 4 tasks:\n",
    "\n",
    "- **Label Encoding**: This is a process to convert all categorical variables to binary variable.\n",
    "- **Drop Unnecessary Columns**:  As the process name, we'll get rid of useless columns.\n",
    "- **Split our Data**: ML models, needs to learn from the data, and then test up unseen data.\n",
    "- **Data Normalization**:  This process will be performed to normalize the range of independent variables or features of data.<br>."
   ]
  },
  {
   "cell_type": "code",
   "execution_count": null,
   "metadata": {},
   "outputs": [],
   "source": [
    "# One-Hot Enconding -> Label Encoding to turn Categorical values to Integers\n",
    "# Dropping unecessary columns\n",
    "df = pd.get_dummies(heart, columns=['cp', 'thal', 'slope'], drop_first=True)\n",
    "\n",
    "# Inspecting new dataset\n",
    "df.head()"
   ]
  },
  {
   "cell_type": "code",
   "execution_count": null,
   "metadata": {},
   "outputs": [],
   "source": [
    "# Divide dataset in 2: Dependent (Target) variable and Independent Variables\n",
    "X = df.loc[:, df.columns != 'target'].values\n",
    "\n",
    "y = df.target.values\n",
    "\n",
    "# Splitting dataset\n",
    "X_train, X_test, y_train, y_test = train_test_split(X, y, test_size=0.2, random_state=1984)\n",
    "\n",
    "scaler = StandardScaler()\n",
    "\n",
    "X_train_scaled = scaler.fit_transform(X_train)\n",
    "X_test_scaled  = scaler.transform(X_test)\n",
    "\n",
    "# Inspecting X and y\n",
    "print('X and y: ', X.shape, y.shape)\n",
    "print('X and y train: ', X_train.shape, y_train.shape)\n",
    "print('X and y test: ', X_test.shape, y_test.shape)\n",
    "\n",
    "# Parameters for dataviz\n",
    "fnames = df.loc[:, df.columns != 'target'].columns.to_list()\n",
    "cnames = heart.target.unique().astype('str')\n"
   ]
  },
  {
   "cell_type": "markdown",
   "metadata": {},
   "source": [
    "# 4. Modelling"
   ]
  },
  {
   "cell_type": "markdown",
   "metadata": {},
   "source": [
    "# Logistic Regression\n",
    "\n",
    "Logistic regression is a calculation used to predict a binary outcome: either something happens, or does not. This can be exhibited as Yes/No, Pass/Fail, Alive/Dead, etc.\n",
    "\n",
    "Independent variables are analyzed to determine the binary outcome with the results falling into one of two categories. The independent variables can be categorical or numeric, but the dependent variable is always categorical. Written like this:\n",
    "\n",
    "P(Y=1|X) or P(Y=0|X)\n",
    "\n",
    "It calculates the probability of dependent variable Y, given independent variable X.\n",
    "\n",
    "This can be used to calculate the probability of a word having a positive or negative connotation (0, 1, or on a scale between). Or it can be used to determine the object contained in a photo (tree, flower, grass, etc.), with each object given a probability between 0 and "
   ]
  },
  {
   "cell_type": "code",
   "execution_count": null,
   "metadata": {},
   "outputs": [],
   "source": [
    "# Build the steps\n",
    "steps = [('scaler', StandardScaler()),\n",
    "         ('logreg', LogisticRegression())]\n",
    "         \n",
    "pipeline = Pipeline(steps)\n",
    "\n",
    "# Create the parameter space\n",
    "parameters = {\"logreg__C\": np.linspace(0.001, 1.0, 20)}\n",
    "\n",
    "# Instantiate the grid search object\n",
    "cv = GridSearchCV(pipeline, param_grid=parameters)\n",
    "\n",
    "# Fit to the training data\n",
    "cv.fit(X_train, y_train)\n",
    "print('Best score: ', cv.best_score_, \"\\nBest parameter: \", cv.best_params_)\n",
    "\n",
    "# Make predictions\n",
    "y_pred = cv.predict(X_test)"
   ]
  },
  {
   "cell_type": "code",
   "execution_count": null,
   "metadata": {},
   "outputs": [],
   "source": [
    "# Compute R-squared\n",
    "r_squared = cv.score(X_test, y_test)\n",
    "\n",
    "# Compute RMSE\n",
    "rmse = mean_squared_error(y_test, y_pred, squared=False)\n",
    "\n",
    "# Print the metrics\n",
    "print(\"R^2: {}\".format(r_squared))\n",
    "print(\"RMSE: {}\".format(rmse))"
   ]
  },
  {
   "cell_type": "code",
   "execution_count": null,
   "metadata": {},
   "outputs": [],
   "source": [
    "lm_accuracy = round(accuracy_score(y_test, y_pred) * 100,2)\n",
    "print('Logistic Regression Accuracy {}%'.format(lm_accuracy))"
   ]
  },
  {
   "cell_type": "code",
   "execution_count": null,
   "metadata": {},
   "outputs": [],
   "source": [
    "roc_acc = round(roc_auc_score(y_test, y_pred) * 100,2)\n",
    "print('Logistic ROC Accuracy {}%'.format(roc_acc))\n"
   ]
  },
  {
   "cell_type": "code",
   "execution_count": null,
   "metadata": {},
   "outputs": [],
   "source": [
    "# Create histogram of Sex by Age\n",
    "model = LogisticRegression()\n",
    "fig = plt.figure(figsize=(12, 6))\n",
    "\n",
    "ax1 = fig.add_subplot(1,2,1)\n",
    "visualizer = ClassificationReport(model, cmap=\"GnBu\",)\n",
    "ax1.set_title('LogisticRegression Classification Report')\n",
    "\n",
    "visualizer.fit(X_train, y_train)\n",
    "visualizer.score(X_test, y_test)\n",
    "# visualizer.show();\n",
    "\n",
    "ax2 = fig.add_subplot(1,2,2)\n",
    "cm(model, X_train, y_train, X_test, y_test, classes=cnames, cmap=\"GnBu\",)\n",
    "plt.show();"
   ]
  },
  {
   "cell_type": "markdown",
   "metadata": {},
   "source": [
    "# Decision Tree\n",
    "\n",
    "A decision tree is a supervised learning algorithm that is perfect for classification problems, as it’s able to order classes on a precise level. It works like a flow chart, separating data points into two similar categories at a time from the “tree trunk” to “branches,” to “leaves,” where the categories become more finitely similar. This creates categories within categories, allowing for organic classification with limited human supervision."
   ]
  },
  {
   "cell_type": "code",
   "execution_count": null,
   "metadata": {},
   "outputs": [],
   "source": [
    "# Building Decision Treen Model\n",
    "dtg = DecisionTreeClassifier(criterion='gini',max_depth=3)\n",
    "\n",
    "# Train Decision Tree Classifer\n",
    "dtg = dtg.fit(X_train,y_train)\n",
    "\n",
    "#Predict the response for test dataset\n",
    "y_pred = dtg.predict(X_test)\n",
    "\n",
    "# Model Accuracy, how often is the classifier correct?\n",
    "print(classification_report(y_test, y_pred))\n",
    "gini_acc = round(accuracy_score(y_test, y_pred) * 100, 2)\n",
    "print(\"Tree Decision (Gini) Accuracy: {}%\".format(gini_acc))"
   ]
  },
  {
   "cell_type": "code",
   "execution_count": null,
   "metadata": {},
   "outputs": [],
   "source": [
    "# DOT data\n",
    "dot_data = tree.export_graphviz(dtg, out_file=None, \n",
    "                                feature_names=fnames,  \n",
    "                                class_names=cnames,\n",
    "                                filled=True)\n",
    "\n",
    "# Draw graph\n",
    "graph = gp.Source(dot_data, format=\"png\") \n",
    "graph"
   ]
  },
  {
   "cell_type": "code",
   "execution_count": null,
   "metadata": {},
   "outputs": [],
   "source": [
    "fig = plt.subplots(figsize=(12, 8))\n",
    "\n",
    "\n",
    "cm(DecisionTreeClassifier(criterion=\"gini\", max_depth=3), X_train, y_train, X_test, y_test, classes=cnames, cmap=\"GnBu\",)\n",
    "plt.tight_layout();\n",
    "# plt.show();"
   ]
  },
  {
   "cell_type": "code",
   "execution_count": null,
   "metadata": {},
   "outputs": [],
   "source": [
    "# Create Decision Tree classifer object\n",
    "dte = DecisionTreeClassifier(criterion=\"entropy\", max_depth=3)\n",
    "\n",
    "# Train Decision Tree Classifer\n",
    "dte = dte.fit(X_train,y_train)\n",
    "\n",
    "#Predict the response for test dataset\n",
    "y_pred = dte.predict(X_test)\n",
    "\n",
    "# Model Accuracy, how often is the classifier correct?\n",
    "print(classification_report(y_test, y_pred))\n",
    "ent_acc = round(accuracy_score(y_test, y_pred) * 100, 2)\n",
    "\n",
    "print(\"Tree Decision (Entropy) Accuracy: {}%\".format(ent_acc))"
   ]
  },
  {
   "cell_type": "code",
   "execution_count": null,
   "metadata": {},
   "outputs": [],
   "source": [
    "# DOT data\n",
    "dot_data = tree.export_graphviz(dte, out_file=None, \n",
    "                                feature_names=fnames,  \n",
    "                                class_names=cnames,\n",
    "                                filled=True)\n",
    "\n",
    "# Draw graph\n",
    "graph = gp.Source(dot_data, format=\"png\") \n",
    "graph"
   ]
  },
  {
   "cell_type": "code",
   "execution_count": null,
   "metadata": {},
   "outputs": [],
   "source": [
    "# Instantiate the visualizer with the classification model\n",
    "\n",
    "fig = plt.figure(figsize=(12, 8))\n",
    "\n",
    "cm(dte,X_train, y_train, X_test, y_test,classes=cnames, cmap=\"GnBu\",)\n",
    "ax1.set_title('criterion=\"entropy\"')\n",
    "\n",
    "plt.show()"
   ]
  },
  {
   "cell_type": "markdown",
   "metadata": {},
   "source": [
    "# KNN\n",
    "\n",
    "The optimal K value usually found is the square root of N, where N is the total number of samples\n",
    "\n",
    "K-nearest neighbors (k-NN) is a pattern recognition algorithm that uses training datasets to find the k closest relatives in future examples.\n",
    "\n",
    "When k-NN is used in classification, you calculate to place data within the category of its nearest neighbor. If k = 1, then it would be placed in the class nearest 1. K is classified by a plurality poll of its neighbors."
   ]
  },
  {
   "cell_type": "code",
   "execution_count": null,
   "metadata": {},
   "outputs": [],
   "source": [
    "# Setup arrays to store train and test accuracies\n",
    "neighbors = np.arange(1, 40)\n",
    "train_accuracies = {}\n",
    "test_accuracies = {}\n",
    "\n",
    "for neighbor in neighbors:\n",
    "    # Setup a k-NN Classifier with k neighbors: knn\n",
    "    knn = KNeighborsClassifier(n_neighbors=neighbor)\n",
    "\n",
    "    # Fit the classifier to the training data\n",
    "    knn.fit(X_train_scaled, y_train)\n",
    "    pred_i = knn.predict(X_test_scaled)\n",
    "\n",
    "\t# Compute accuracy\n",
    "    train_accuracies[neighbor] = knn.score(X_train_scaled, y_train)\n",
    "    test_accuracies[neighbor] = knn.score(X_test_scaled, y_test)"
   ]
  },
  {
   "cell_type": "code",
   "execution_count": null,
   "metadata": {},
   "outputs": [],
   "source": [
    "knn_train_acc = round(np.mean(list(train_accuracies.values())) *100,3)\n",
    "knn_test_acc = round(np.mean(list(test_accuracies.values())) *100,3)\n",
    "print(\"KNN (Train) Accuracy: {}%\".format(knn_train_acc))\n",
    "print(\"KNN (Test) Accuracy: {}%\".format(knn_test_acc))"
   ]
  },
  {
   "cell_type": "code",
   "execution_count": null,
   "metadata": {},
   "outputs": [],
   "source": [
    "# Add a title\n",
    "fig = plt.figure(figsize=(12, 8))\n",
    "plt.title(\"KNN: Varying Number of Neighbors\")\n",
    "\n",
    "# Plot training accuracies\n",
    "plt.plot(neighbors,train_accuracies.values(), label=\"Training Accuracy\")\n",
    "\n",
    "# Plot test accuracies\n",
    "plt.plot(neighbors, test_accuracies.values(), label=\"Testing Accuracy\")\n",
    "\n",
    "plt.legend()\n",
    "plt.xlabel(\"Number of Neighbors\")\n",
    "plt.ylabel(\"Accuracy\")\n",
    "\n",
    "# Display the plot\n",
    "plt.show()"
   ]
  },
  {
   "cell_type": "code",
   "execution_count": null,
   "metadata": {},
   "outputs": [],
   "source": [
    "cm(\n",
    "    KNeighborsClassifier(n_neighbors=25),\n",
    "    X_train_scaled, y_train, X_test_scaled, y_test,\n",
    "    classes=cnames,\n",
    " cmap=\"GnBu\",)\n",
    "plt.tight_layout()\n",
    "plt.show();"
   ]
  },
  {
   "cell_type": "code",
   "execution_count": null,
   "metadata": {},
   "outputs": [],
   "source": [
    "print(classification_report(y_test, y_pred))\n",
    "knn_acc = round(accuracy_score(y_test, y_pred) * 100, 2)\n",
    "print(\"KNN Accuracy: {}%\".format(knn_acc))"
   ]
  },
  {
   "cell_type": "markdown",
   "metadata": {},
   "source": [
    "# 5. Evaluation"
   ]
  },
  {
   "cell_type": "code",
   "execution_count": null,
   "metadata": {},
   "outputs": [],
   "source": [
    "ml = pd.DataFrame({'Model': ['Logistic Regression', 'K-Nearest Neighbour', 'Decision Tree (Gini)', 'Decision Tree (Entropy)'], \n",
    "                    'Accuracy': [lm_accuracy, knn_acc, gini_acc, ent_acc]})\n",
    "ml.head().sort_values(by='Accuracy', ascending=False)"
   ]
  },
  {
   "cell_type": "markdown",
   "metadata": {},
   "source": []
  }
 ],
 "metadata": {
  "kernelspec": {
   "display_name": "Python 3.9.13 ('base')",
   "language": "python",
   "name": "python3"
  },
  "language_info": {
   "codemirror_mode": {
    "name": "ipython",
    "version": 3
   },
   "file_extension": ".py",
   "mimetype": "text/x-python",
   "name": "python",
   "nbconvert_exporter": "python",
   "pygments_lexer": "ipython3",
   "version": "3.9.13"
  },
  "orig_nbformat": 4,
  "vscode": {
   "interpreter": {
    "hash": "3cdc2136a0c3ff6ee581d9355ebf305035e9e0ffdb59b37da8e4674310bf0233"
   }
  }
 },
 "nbformat": 4,
 "nbformat_minor": 2
}
